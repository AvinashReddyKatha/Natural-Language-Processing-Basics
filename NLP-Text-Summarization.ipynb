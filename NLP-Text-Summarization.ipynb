{
 "cells": [
  {
   "cell_type": "code",
   "execution_count": 21,
   "id": "fefa91b4",
   "metadata": {},
   "outputs": [],
   "source": [
    "import nltk\n",
    "from nltk.corpus import stopwords\n",
    "from nltk.stem import PorterStemmer\n",
    "from nltk.tokenize import word_tokenize, sent_tokenize"
   ]
  },
  {
   "cell_type": "code",
   "execution_count": 22,
   "id": "a77da6fd",
   "metadata": {},
   "outputs": [],
   "source": [
    "import string\n",
    "punctuations = string.punctuation\n",
    "\n",
    "def create_freq_dict(text_string):\n",
    "    stopWords = set(stopwords.words(\"english\"))\n",
    "    words = word_tokenize(text_string.lower())\n",
    "    ps = PorterStemmer()\n",
    "    # remove punctuations\n",
    "    word_frequencies = dict()\n",
    "    for word in words:\n",
    "        word = ps.stem(word)\n",
    "        if ((word in stopWords) or (word in punctuations)):\n",
    "            continue\n",
    "        if word in word_frequencies:\n",
    "            word_frequencies[word] += 1\n",
    "        else:\n",
    "            word_frequencies[word] = 1\n",
    "\n",
    "    return word_frequencies"
   ]
  },
  {
   "cell_type": "code",
   "execution_count": 23,
   "id": "896960af",
   "metadata": {},
   "outputs": [
    {
     "name": "stdout",
     "output_type": "stream",
     "text": [
      "{'old': 1, 'man': 1, 'live': 2, 'villag': 2, 'wa': 6, 'one': 1, 'unfortun': 1, 'peopl': 2, 'world': 1, 'whole': 1, 'tire': 1, 'alway': 2, 'gloomi': 1, 'constantli': 1, 'complain': 1, 'bad': 1, 'mood': 1, 'longer': 1, 'bile': 1, 'becom': 1, 'poison': 1, 'hi': 2, 'word': 1, 'avoid': 1, 'becaus': 1, 'misfortun': 1, 'becam': 1, 'contagi': 1, 'even': 1, 'unnatur': 1, 'insult': 1, 'happi': 1, 'next': 1}\n"
     ]
    }
   ],
   "source": [
    "mytext = \"\"\"An old man lived in the village. \n",
    "He was one of the most unfortunate people in the world.\n",
    "The whole village was tired of him; he was always gloomy, he constantly complained and was always in a bad mood.\n",
    "The longer he lived, the more bile he was becoming and the more poisonous were his words.\n",
    "People avoided him, because his misfortune became contagious. It was even unnatural and insulting to be happy next to him.\"\"\"\n",
    "\n",
    "mywordfreq = create_freq_dict(mytext)\n",
    "print(mywordfreq)"
   ]
  },
  {
   "cell_type": "code",
   "execution_count": 24,
   "id": "f41144cc",
   "metadata": {},
   "outputs": [],
   "source": [
    "def score_sentences(sentences, word_frequencies):\n",
    "    sentence_scores = dict()\n",
    "\n",
    "    for sentence in sentences:\n",
    "        word_count = (len(word_tokenize(sentence)))\n",
    "        word_count_except_sw = 0\n",
    "        for word in word_frequencies:\n",
    "            if word in sentence.lower():\n",
    "                word_count_except_sw += 1\n",
    "                #if sentence[:10] in sentence_scores:\n",
    "                if sentence in sentence_scores:\n",
    "                    sentence_scores[sentence] += word_frequencies[word]\n",
    "                else:\n",
    "                    #sentence_scores[sentence[:10]] = word_frequencies[word]\n",
    "                    sentence_scores[sentence] = word_frequencies[word]\n",
    "\n",
    "        #if sentence[:10] in sentence_scores:\n",
    "        if sentence in sentence_scores:\n",
    "            # higher no. of words in a sentence should not make its score higher\n",
    "            #sentence_scores[sentence[:10]] = sentence_scores[sentence[:10]] / word_count_except_sw  \n",
    "            sentence_scores[sentence] = sentence_scores[sentence] / word_count_except_sw\n",
    "\n",
    "    return sentence_scores"
   ]
  },
  {
   "cell_type": "code",
   "execution_count": 5,
   "id": "f2e9f9db",
   "metadata": {},
   "outputs": [
    {
     "name": "stdout",
     "output_type": "stream",
     "text": [
      "{'An old man lived in the village.': 1.5, 'He was one of the most unfortunate people in the world.': 2.2, 'The whole village was tired of him; he was always gloomy, he constantly complained and was always in a bad mood.': 1.8888888888888888, 'The longer he lived, the more bile he was becoming and the more poisonous were his words.': 1.875, 'People avoided him, because his misfortune became contagious.': 1.2857142857142858, 'It was even unnatural and insulting to be happy next to him.': 2.0}\n"
     ]
    }
   ],
   "source": [
    "mytext = \"\"\"An old man lived in the village. \n",
    "He was one of the most unfortunate people in the world.\n",
    "The whole village was tired of him; he was always gloomy, he constantly complained and was always in a bad mood.\n",
    "The longer he lived, the more bile he was becoming and the more poisonous were his words.\n",
    "People avoided him, because his misfortune became contagious. It was even unnatural and insulting to be happy next to him.\"\"\"\n",
    "mysentences = sent_tokenize(mytext)\n",
    "mysentscores = score_sentences(mysentences, mywordfreq)\n",
    "print(mysentscores)"
   ]
  },
  {
   "cell_type": "code",
   "execution_count": 25,
   "id": "f6446e59",
   "metadata": {},
   "outputs": [
    {
     "data": {
      "text/plain": [
       "dict_keys(['An old man lived in the village.', 'He was one of the most unfortunate people in the world.', 'The whole village was tired of him; he was always gloomy, he constantly complained and was always in a bad mood.', 'The longer he lived, the more bile he was becoming and the more poisonous were his words.', 'People avoided him, because his misfortune became contagious.', 'It was even unnatural and insulting to be happy next to him.'])"
      ]
     },
     "execution_count": 25,
     "metadata": {},
     "output_type": "execute_result"
    }
   ],
   "source": [
    "mysentscores.keys()"
   ]
  },
  {
   "cell_type": "code",
   "execution_count": 7,
   "id": "33b27f5a",
   "metadata": {},
   "outputs": [],
   "source": [
    "def find_average_score(sentence_scores):\n",
    "    sumValues = 0\n",
    "    for sentence in sentence_scores:\n",
    "        sumValues += sentence_scores[sentence]\n",
    "\n",
    "    # Average value of a sentence from original text\n",
    "    average = (sumValues / len(sentence_scores))\n",
    "\n",
    "    return average"
   ]
  },
  {
   "cell_type": "code",
   "execution_count": 8,
   "id": "dddd3fd1",
   "metadata": {},
   "outputs": [
    {
     "data": {
      "text/plain": [
       "1.7916005291005292"
      ]
     },
     "execution_count": 8,
     "metadata": {},
     "output_type": "execute_result"
    }
   ],
   "source": [
    "myavg = find_average_score(mysentscores)\n",
    "myavg"
   ]
  },
  {
   "cell_type": "code",
   "execution_count": 26,
   "id": "2130dc22",
   "metadata": {},
   "outputs": [],
   "source": [
    "def generate_summary(sentences, sentence_scores, threshold):\n",
    "    sentence_count = 0\n",
    "    summary = ''\n",
    "\n",
    "    for sentence in sentences:\n",
    "        if sentence in sentence_scores and sentence_scores[sentence] >= (threshold):\n",
    "            summary += \" \" + sentence\n",
    "            sentence_count += 1\n",
    "\n",
    "    return summary"
   ]
  },
  {
   "cell_type": "code",
   "execution_count": 27,
   "id": "315c0ac2",
   "metadata": {},
   "outputs": [
    {
     "data": {
      "text/plain": [
       "' He was one of the most unfortunate people in the world. It was even unnatural and insulting to be happy next to him.'"
      ]
     },
     "execution_count": 27,
     "metadata": {},
     "output_type": "execute_result"
    }
   ],
   "source": [
    "\n",
    "mysummary = generate_summary(mysentences, mysentscores, myavg*1.1)\n",
    "mysummary"
   ]
  },
  {
   "cell_type": "code",
   "execution_count": 12,
   "id": "b375e89d",
   "metadata": {},
   "outputs": [],
   "source": [
    "def run_summarization(text, threshold=1.3):\n",
    "\n",
    "    word_frequencies = create_freq_dict(text)\n",
    "    sentences = sent_tokenize(text)\n",
    "    sentence_scores = score_sentences(sentences, word_frequencies)\n",
    "    sentence_avg_score = find_average_score(sentence_scores)\n",
    "    summary = generate_summary(sentences, sentence_scores, threshold * sentence_avg_score)\n",
    "\n",
    "    return summary"
   ]
  },
  {
   "cell_type": "code",
   "execution_count": 15,
   "id": "c9306b14",
   "metadata": {},
   "outputs": [],
   "source": [
    "import warnings\n",
    "warnings.filterwarnings(\"ignore\")\n",
    "\n"
   ]
  },
  {
   "cell_type": "code",
   "execution_count": null,
   "id": "80f260bf",
   "metadata": {},
   "outputs": [],
   "source": [
    "import nltk\n",
    "nltk.download('stopwords')\n",
    "nltk.download('punkt')"
   ]
  },
  {
   "cell_type": "code",
   "execution_count": 17,
   "id": "eabd3af3",
   "metadata": {},
   "outputs": [],
   "source": [
    "text=\"\"\"\n",
    "An old man lived in the village. He was one of the most unfortunate people in the world. The whole village was tired of him; he was always gloomy, he constantly complained and was always in a bad mood.\n",
    "The longer he lived, the more bile he was becoming and the more poisonous were his words. People avoided him, because his misfortune became contagious. It was even unnatural and insulting to be happy next to him.\n",
    "\n",
    "He created the feeling of unhappiness in others.\n",
    "But one day, when he turned eighty years old, an incredible thing happened. Instantly everyone started hearing the rumour: “An Old Man is happy today, he doesn’t complain about anything, smiles, and even his face is freshened up.”\n",
    "The whole village gathered together. The old man was asked:\n",
    "Villager: What happened to you?\n",
    "“Nothing special. Eighty years I’ve been chasing happiness, and it was useless. And then I decided to live without happiness and just enjoy life. That’s why I’m happy now.” – An Old Man\n",
    "\n",
    "\"\"\""
   ]
  },
  {
   "cell_type": "code",
   "execution_count": 18,
   "id": "32c2db5e",
   "metadata": {},
   "outputs": [
    {
     "name": "stdout",
     "output_type": "stream",
     "text": [
      " \n",
      "An old man lived in the village. He was one of the most unfortunate people in the world. The whole village was tired of him; he was always gloomy, he constantly complained and was always in a bad mood. It was even unnatural and insulting to be happy next to him. The old man was asked:\n",
      "Villager: What happened to you? Eighty years I’ve been chasing happiness, and it was useless. That’s why I’m happy now.” – An Old Man\n"
     ]
    }
   ],
   "source": [
    "result = run_summarization(text, 1)\n",
    "print(result)"
   ]
  },
  {
   "cell_type": "code",
   "execution_count": 19,
   "id": "db8f3ded",
   "metadata": {},
   "outputs": [],
   "source": [
    "text = \"\"\"\n",
    "In a move to encourage digital payments in the country, the Central Board of Direct Taxes (CBDT) said that banks can not levy any extra charge on transactions made through electronic modes on or after January 1, 2020. \"... based on section 10A of the Payment and Settlement Systems Act 2007, any charge including the MDR (Merchant Discount Rate) shall not be applicable on or after 1st January, 2020 on payment made through prescribed electronic modes,\" CBDT said in a statement.\n",
    "The electronics modes of transactions include 1) Debit card powered by RuPay, 2) Unified Payment Interface (UPI), 3) Unified Payment Interface Quick Response code (UPI QR code), BHIM UPI QR code. \"According to Section 10 A under the Payments and Settlement Systems Act 2007, no bank or system provider shall impose any charge on a payer making payment or beneficiary receiving payment, through electronic modes prescribed under section 269SU of IT Act,\" the CBDT said.\n",
    "The regulator noticed that certain banks collect charges for UPI transactions. A certain number of transactions are free and beyond the limit, bank charges for every UPI payment. \"Such practice on parts of banks is a breach of Section 10A of the PSS Act as well as section 269SU of the IT act,\" the CBDT said in its circular. Hence, the banks can not levy any extra charges for UPI transactions.\n",
    "\n",
    "\"Such breach attracts penal provisions under section 271DB of the IT Act as well as section 26 of the PSS Act,\" CBDT further added.\n",
    "The banks were also advised to refund charges collected from customers for digital transaction on or after January 1, 2020. \"Banks are therefore, advised to immediately refund the charges collected, if any, on or after 1st January, 2020 on transactions carried out using the electronic modes prescribed under section 269SU and not to impose charges on any future transactions carried through the said prescribed mode,\" the regulator mentioned in its circular.\n",
    "UPI-based payments clocked 1.49 billion transactions in July, according data released by National Payments Corp. of India. Digital payments have become a necessity in the wake of coronavirus outbreak. \"Payment systems have demonstrated that they are dependable and durable, and continue to command a high level of confidence from the general population,\" said PwC in its report.\n",
    "With a majority of the sectors that contribute to digital payments still in a state of flux, it is still too early to ascertain the long-term impact of COVID-19 on digital payments, it added.\n",
    "\"\"\""
   ]
  },
  {
   "cell_type": "code",
   "execution_count": 20,
   "id": "31580c9a",
   "metadata": {},
   "outputs": [
    {
     "name": "stdout",
     "output_type": "stream",
     "text": [
      " The regulator noticed that certain banks collect charges for UPI transactions. A certain number of transactions are free and beyond the limit, bank charges for every UPI payment. Hence, the banks can not levy any extra charges for UPI transactions.\n"
     ]
    }
   ],
   "source": [
    "result = run_summarization(text, 1.2)\n",
    "print(result)"
   ]
  },
  {
   "cell_type": "code",
   "execution_count": null,
   "id": "5f683943",
   "metadata": {},
   "outputs": [],
   "source": []
  }
 ],
 "metadata": {
  "kernelspec": {
   "display_name": "Python 3 (ipykernel)",
   "language": "python",
   "name": "python3"
  },
  "language_info": {
   "codemirror_mode": {
    "name": "ipython",
    "version": 3
   },
   "file_extension": ".py",
   "mimetype": "text/x-python",
   "name": "python",
   "nbconvert_exporter": "python",
   "pygments_lexer": "ipython3",
   "version": "3.11.4"
  }
 },
 "nbformat": 4,
 "nbformat_minor": 5
}
