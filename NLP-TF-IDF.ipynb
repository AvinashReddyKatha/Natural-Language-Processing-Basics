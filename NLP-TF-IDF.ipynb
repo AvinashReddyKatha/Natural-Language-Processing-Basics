{
 "cells": [
  {
   "cell_type": "code",
   "execution_count": 1,
   "id": "9141fce7",
   "metadata": {},
   "outputs": [],
   "source": [
    "import pandas as pd\n",
    "import math\n",
    "import sklearn"
   ]
  },
  {
   "cell_type": "code",
   "execution_count": 5,
   "id": "76cb8924",
   "metadata": {},
   "outputs": [
    {
     "data": {
      "text/plain": [
       "{'Data',\n",
       " 'Machine',\n",
       " 'and',\n",
       " 'are',\n",
       " 'data',\n",
       " 'deep',\n",
       " 'every',\n",
       " 'for',\n",
       " 'is',\n",
       " 'learning',\n",
       " 'useful',\n",
       " 'very',\n",
       " 'where'}"
      ]
     },
     "execution_count": 5,
     "metadata": {},
     "output_type": "execute_result"
    }
   ],
   "source": [
    "first_sent=\"Data is every where and is very useful\"\n",
    "second_sent=\"Machine learning and deep learning are useful for data\"\n",
    "first_sent=first_sent.split(\" \")\n",
    "second_sent=second_sent.split(\" \")\n",
    "vocab=set(first_sent).union(set(second_sent))\n",
    "vocab"
   ]
  },
  {
   "cell_type": "code",
   "execution_count": 6,
   "id": "3626f58b",
   "metadata": {},
   "outputs": [
    {
     "data": {
      "text/plain": [
       "{'Data': 0,\n",
       " 'deep': 0,\n",
       " 'very': 0,\n",
       " 'useful': 0,\n",
       " 'is': 0,\n",
       " 'Machine': 0,\n",
       " 'are': 0,\n",
       " 'for': 0,\n",
       " 'data': 0,\n",
       " 'learning': 0,\n",
       " 'every': 0,\n",
       " 'where': 0,\n",
       " 'and': 0}"
      ]
     },
     "execution_count": 6,
     "metadata": {},
     "output_type": "execute_result"
    }
   ],
   "source": [
    "wordDict1=dict.fromkeys(vocab,0)\n",
    "wordDict2=dict.fromkeys(vocab,0)\n",
    "wordDict1"
   ]
  },
  {
   "cell_type": "code",
   "execution_count": 7,
   "id": "4119a52d",
   "metadata": {},
   "outputs": [
    {
     "data": {
      "text/plain": [
       "{'Data': 0,\n",
       " 'deep': 0,\n",
       " 'very': 0,\n",
       " 'useful': 0,\n",
       " 'is': 0,\n",
       " 'Machine': 0,\n",
       " 'are': 0,\n",
       " 'for': 0,\n",
       " 'data': 0,\n",
       " 'learning': 0,\n",
       " 'every': 0,\n",
       " 'where': 0,\n",
       " 'and': 0}"
      ]
     },
     "execution_count": 7,
     "metadata": {},
     "output_type": "execute_result"
    }
   ],
   "source": [
    "wordDict2"
   ]
  },
  {
   "cell_type": "code",
   "execution_count": 8,
   "id": "374a8a02",
   "metadata": {},
   "outputs": [],
   "source": [
    "for word in first_sent:\n",
    "    wordDict1[word] +=1\n",
    "for word in second_sent:\n",
    "    wordDict2[word] +=1\n",
    "    "
   ]
  },
  {
   "cell_type": "code",
   "execution_count": 9,
   "id": "eaccae8a",
   "metadata": {},
   "outputs": [
    {
     "data": {
      "text/plain": [
       "{'Data': 1,\n",
       " 'deep': 0,\n",
       " 'very': 1,\n",
       " 'useful': 1,\n",
       " 'is': 2,\n",
       " 'Machine': 0,\n",
       " 'are': 0,\n",
       " 'for': 0,\n",
       " 'data': 0,\n",
       " 'learning': 0,\n",
       " 'every': 1,\n",
       " 'where': 1,\n",
       " 'and': 1}"
      ]
     },
     "execution_count": 9,
     "metadata": {},
     "output_type": "execute_result"
    }
   ],
   "source": [
    "wordDict1"
   ]
  },
  {
   "cell_type": "code",
   "execution_count": 11,
   "id": "3b8c73e6",
   "metadata": {},
   "outputs": [
    {
     "data": {
      "text/plain": [
       "{'Data': 0,\n",
       " 'deep': 1,\n",
       " 'very': 0,\n",
       " 'useful': 1,\n",
       " 'is': 0,\n",
       " 'Machine': 1,\n",
       " 'are': 1,\n",
       " 'for': 1,\n",
       " 'data': 1,\n",
       " 'learning': 2,\n",
       " 'every': 0,\n",
       " 'where': 0,\n",
       " 'and': 1}"
      ]
     },
     "execution_count": 11,
     "metadata": {},
     "output_type": "execute_result"
    }
   ],
   "source": [
    " wordDict2"
   ]
  },
  {
   "cell_type": "code",
   "execution_count": 14,
   "id": "2f890e41",
   "metadata": {
    "scrolled": true
   },
   "outputs": [
    {
     "data": {
      "text/html": [
       "<div>\n",
       "<style scoped>\n",
       "    .dataframe tbody tr th:only-of-type {\n",
       "        vertical-align: middle;\n",
       "    }\n",
       "\n",
       "    .dataframe tbody tr th {\n",
       "        vertical-align: top;\n",
       "    }\n",
       "\n",
       "    .dataframe thead th {\n",
       "        text-align: right;\n",
       "    }\n",
       "</style>\n",
       "<table border=\"1\" class=\"dataframe\">\n",
       "  <thead>\n",
       "    <tr style=\"text-align: right;\">\n",
       "      <th></th>\n",
       "      <th>Data</th>\n",
       "      <th>deep</th>\n",
       "      <th>very</th>\n",
       "      <th>useful</th>\n",
       "      <th>is</th>\n",
       "      <th>Machine</th>\n",
       "      <th>are</th>\n",
       "      <th>for</th>\n",
       "      <th>data</th>\n",
       "      <th>learning</th>\n",
       "      <th>every</th>\n",
       "      <th>where</th>\n",
       "      <th>and</th>\n",
       "    </tr>\n",
       "  </thead>\n",
       "  <tbody>\n",
       "    <tr>\n",
       "      <th>0</th>\n",
       "      <td>1</td>\n",
       "      <td>0</td>\n",
       "      <td>1</td>\n",
       "      <td>1</td>\n",
       "      <td>2</td>\n",
       "      <td>0</td>\n",
       "      <td>0</td>\n",
       "      <td>0</td>\n",
       "      <td>0</td>\n",
       "      <td>0</td>\n",
       "      <td>1</td>\n",
       "      <td>1</td>\n",
       "      <td>1</td>\n",
       "    </tr>\n",
       "    <tr>\n",
       "      <th>1</th>\n",
       "      <td>0</td>\n",
       "      <td>1</td>\n",
       "      <td>0</td>\n",
       "      <td>1</td>\n",
       "      <td>0</td>\n",
       "      <td>1</td>\n",
       "      <td>1</td>\n",
       "      <td>1</td>\n",
       "      <td>1</td>\n",
       "      <td>2</td>\n",
       "      <td>0</td>\n",
       "      <td>0</td>\n",
       "      <td>1</td>\n",
       "    </tr>\n",
       "  </tbody>\n",
       "</table>\n",
       "</div>"
      ],
      "text/plain": [
       "   Data  deep  very  useful  is  Machine  are  for  data  learning  every  \\\n",
       "0     1     0     1       1   2        0    0    0     0         0      1   \n",
       "1     0     1     0       1   0        1    1    1     1         2      0   \n",
       "\n",
       "   where  and  \n",
       "0      1    1  \n",
       "1      0    1  "
      ]
     },
     "execution_count": 14,
     "metadata": {},
     "output_type": "execute_result"
    }
   ],
   "source": [
    "df=pd.DataFrame([wordDict1,wordDict2])\n",
    "df"
   ]
  },
  {
   "cell_type": "code",
   "execution_count": 16,
   "id": "b6e95853",
   "metadata": {},
   "outputs": [],
   "source": [
    "def calculateTF(wordDict,doc):\n",
    "    tfDict={}\n",
    "    len_corpus=len(doc)\n",
    "    for word, count in wordDict.items():\n",
    "            tfDict[word]=count/len_corpus\n",
    "\n",
    "    return tfDict"
   ]
  },
  {
   "cell_type": "code",
   "execution_count": 17,
   "id": "5ddd1de0",
   "metadata": {},
   "outputs": [
    {
     "data": {
      "text/plain": [
       "{'Data': 0.125,\n",
       " 'deep': 0.0,\n",
       " 'very': 0.125,\n",
       " 'useful': 0.125,\n",
       " 'is': 0.25,\n",
       " 'Machine': 0.0,\n",
       " 'are': 0.0,\n",
       " 'for': 0.0,\n",
       " 'data': 0.0,\n",
       " 'learning': 0.0,\n",
       " 'every': 0.125,\n",
       " 'where': 0.125,\n",
       " 'and': 0.125}"
      ]
     },
     "execution_count": 17,
     "metadata": {},
     "output_type": "execute_result"
    }
   ],
   "source": [
    "calculateTF(wordDict1,first_sent)"
   ]
  },
  {
   "cell_type": "code",
   "execution_count": 18,
   "id": "53766194",
   "metadata": {},
   "outputs": [
    {
     "data": {
      "text/plain": [
       "{'Data': 0.0,\n",
       " 'deep': 0.1111111111111111,\n",
       " 'very': 0.0,\n",
       " 'useful': 0.1111111111111111,\n",
       " 'is': 0.0,\n",
       " 'Machine': 0.1111111111111111,\n",
       " 'are': 0.1111111111111111,\n",
       " 'for': 0.1111111111111111,\n",
       " 'data': 0.1111111111111111,\n",
       " 'learning': 0.2222222222222222,\n",
       " 'every': 0.0,\n",
       " 'where': 0.0,\n",
       " 'and': 0.1111111111111111}"
      ]
     },
     "execution_count": 18,
     "metadata": {},
     "output_type": "execute_result"
    }
   ],
   "source": [
    "calculateTF(wordDict2,second_sent)"
   ]
  },
  {
   "cell_type": "code",
   "execution_count": 25,
   "id": "c22382ec",
   "metadata": {},
   "outputs": [
    {
     "data": {
      "text/html": [
       "<div>\n",
       "<style scoped>\n",
       "    .dataframe tbody tr th:only-of-type {\n",
       "        vertical-align: middle;\n",
       "    }\n",
       "\n",
       "    .dataframe tbody tr th {\n",
       "        vertical-align: top;\n",
       "    }\n",
       "\n",
       "    .dataframe thead th {\n",
       "        text-align: right;\n",
       "    }\n",
       "</style>\n",
       "<table border=\"1\" class=\"dataframe\">\n",
       "  <thead>\n",
       "    <tr style=\"text-align: right;\">\n",
       "      <th></th>\n",
       "      <th>Data</th>\n",
       "      <th>deep</th>\n",
       "      <th>very</th>\n",
       "      <th>useful</th>\n",
       "      <th>is</th>\n",
       "      <th>Machine</th>\n",
       "      <th>are</th>\n",
       "      <th>for</th>\n",
       "      <th>data</th>\n",
       "      <th>learning</th>\n",
       "      <th>every</th>\n",
       "      <th>where</th>\n",
       "      <th>and</th>\n",
       "    </tr>\n",
       "  </thead>\n",
       "  <tbody>\n",
       "    <tr>\n",
       "      <th>0</th>\n",
       "      <td>0.125</td>\n",
       "      <td>0.000000</td>\n",
       "      <td>0.125</td>\n",
       "      <td>0.125000</td>\n",
       "      <td>0.25</td>\n",
       "      <td>0.000000</td>\n",
       "      <td>0.000000</td>\n",
       "      <td>0.000000</td>\n",
       "      <td>0.000000</td>\n",
       "      <td>0.000000</td>\n",
       "      <td>0.125</td>\n",
       "      <td>0.125</td>\n",
       "      <td>0.125000</td>\n",
       "    </tr>\n",
       "    <tr>\n",
       "      <th>1</th>\n",
       "      <td>0.000</td>\n",
       "      <td>0.111111</td>\n",
       "      <td>0.000</td>\n",
       "      <td>0.111111</td>\n",
       "      <td>0.00</td>\n",
       "      <td>0.111111</td>\n",
       "      <td>0.111111</td>\n",
       "      <td>0.111111</td>\n",
       "      <td>0.111111</td>\n",
       "      <td>0.222222</td>\n",
       "      <td>0.000</td>\n",
       "      <td>0.000</td>\n",
       "      <td>0.111111</td>\n",
       "    </tr>\n",
       "  </tbody>\n",
       "</table>\n",
       "</div>"
      ],
      "text/plain": [
       "    Data      deep   very    useful    is   Machine       are       for  \\\n",
       "0  0.125  0.000000  0.125  0.125000  0.25  0.000000  0.000000  0.000000   \n",
       "1  0.000  0.111111  0.000  0.111111  0.00  0.111111  0.111111  0.111111   \n",
       "\n",
       "       data  learning  every  where       and  \n",
       "0  0.000000  0.000000  0.125  0.125  0.125000  \n",
       "1  0.111111  0.222222  0.000  0.000  0.111111  "
      ]
     },
     "execution_count": 25,
     "metadata": {},
     "output_type": "execute_result"
    }
   ],
   "source": [
    "tf1=calculateTF(wordDict1,first_sent)\n",
    "tf2=calculateTF(wordDict2,second_sent)\n",
    "tf=pd.DataFrame([tf1,tf2])\n",
    "tf"
   ]
  },
  {
   "cell_type": "code",
   "execution_count": 26,
   "id": "ac473dbb",
   "metadata": {},
   "outputs": [
    {
     "data": {
      "text/plain": [
       "['i',\n",
       " 'me',\n",
       " 'my',\n",
       " 'myself',\n",
       " 'we',\n",
       " 'our',\n",
       " 'ours',\n",
       " 'ourselves',\n",
       " 'you',\n",
       " \"you're\",\n",
       " \"you've\",\n",
       " \"you'll\",\n",
       " \"you'd\",\n",
       " 'your',\n",
       " 'yours',\n",
       " 'yourself',\n",
       " 'yourselves',\n",
       " 'he',\n",
       " 'him',\n",
       " 'his',\n",
       " 'himself',\n",
       " 'she',\n",
       " \"she's\",\n",
       " 'her',\n",
       " 'hers',\n",
       " 'herself',\n",
       " 'it',\n",
       " \"it's\",\n",
       " 'its',\n",
       " 'itself',\n",
       " 'they',\n",
       " 'them',\n",
       " 'their',\n",
       " 'theirs',\n",
       " 'themselves',\n",
       " 'what',\n",
       " 'which',\n",
       " 'who',\n",
       " 'whom',\n",
       " 'this',\n",
       " 'that',\n",
       " \"that'll\",\n",
       " 'these',\n",
       " 'those',\n",
       " 'am',\n",
       " 'is',\n",
       " 'are',\n",
       " 'was',\n",
       " 'were',\n",
       " 'be',\n",
       " 'been',\n",
       " 'being',\n",
       " 'have',\n",
       " 'has',\n",
       " 'had',\n",
       " 'having',\n",
       " 'do',\n",
       " 'does',\n",
       " 'did',\n",
       " 'doing',\n",
       " 'a',\n",
       " 'an',\n",
       " 'the',\n",
       " 'and',\n",
       " 'but',\n",
       " 'if',\n",
       " 'or',\n",
       " 'because',\n",
       " 'as',\n",
       " 'until',\n",
       " 'while',\n",
       " 'of',\n",
       " 'at',\n",
       " 'by',\n",
       " 'for',\n",
       " 'with',\n",
       " 'about',\n",
       " 'against',\n",
       " 'between',\n",
       " 'into',\n",
       " 'through',\n",
       " 'during',\n",
       " 'before',\n",
       " 'after',\n",
       " 'above',\n",
       " 'below',\n",
       " 'to',\n",
       " 'from',\n",
       " 'up',\n",
       " 'down',\n",
       " 'in',\n",
       " 'out',\n",
       " 'on',\n",
       " 'off',\n",
       " 'over',\n",
       " 'under',\n",
       " 'again',\n",
       " 'further',\n",
       " 'then',\n",
       " 'once',\n",
       " 'here',\n",
       " 'there',\n",
       " 'when',\n",
       " 'where',\n",
       " 'why',\n",
       " 'how',\n",
       " 'all',\n",
       " 'any',\n",
       " 'both',\n",
       " 'each',\n",
       " 'few',\n",
       " 'more',\n",
       " 'most',\n",
       " 'other',\n",
       " 'some',\n",
       " 'such',\n",
       " 'no',\n",
       " 'nor',\n",
       " 'not',\n",
       " 'only',\n",
       " 'own',\n",
       " 'same',\n",
       " 'so',\n",
       " 'than',\n",
       " 'too',\n",
       " 'very',\n",
       " 's',\n",
       " 't',\n",
       " 'can',\n",
       " 'will',\n",
       " 'just',\n",
       " 'don',\n",
       " \"don't\",\n",
       " 'should',\n",
       " \"should've\",\n",
       " 'now',\n",
       " 'd',\n",
       " 'll',\n",
       " 'm',\n",
       " 'o',\n",
       " 're',\n",
       " 've',\n",
       " 'y',\n",
       " 'ain',\n",
       " 'aren',\n",
       " \"aren't\",\n",
       " 'couldn',\n",
       " \"couldn't\",\n",
       " 'didn',\n",
       " \"didn't\",\n",
       " 'doesn',\n",
       " \"doesn't\",\n",
       " 'hadn',\n",
       " \"hadn't\",\n",
       " 'hasn',\n",
       " \"hasn't\",\n",
       " 'haven',\n",
       " \"haven't\",\n",
       " 'isn',\n",
       " \"isn't\",\n",
       " 'ma',\n",
       " 'mightn',\n",
       " \"mightn't\",\n",
       " 'mustn',\n",
       " \"mustn't\",\n",
       " 'needn',\n",
       " \"needn't\",\n",
       " 'shan',\n",
       " \"shan't\",\n",
       " 'shouldn',\n",
       " \"shouldn't\",\n",
       " 'wasn',\n",
       " \"wasn't\",\n",
       " 'weren',\n",
       " \"weren't\",\n",
       " 'won',\n",
       " \"won't\",\n",
       " 'wouldn',\n",
       " \"wouldn't\"]"
      ]
     },
     "execution_count": 26,
     "metadata": {},
     "output_type": "execute_result"
    }
   ],
   "source": [
    "import nltk\n",
    "from nltk.corpus import stopwords\n",
    "stopwords.words(\"English\")"
   ]
  },
  {
   "cell_type": "code",
   "execution_count": 34,
   "id": "4f0f146e",
   "metadata": {},
   "outputs": [],
   "source": [
    "f1=[word for word in wordDict1 if word.lower() not in stopwords.words(\"English\")]\n",
    "f2=[word for word in wordDict2 if word.lower() not in stopwords.words(\"English\")]"
   ]
  },
  {
   "cell_type": "code",
   "execution_count": 35,
   "id": "e9506d38",
   "metadata": {},
   "outputs": [
    {
     "data": {
      "text/plain": [
       "['Data', 'deep', 'useful', 'Machine', 'data', 'learning', 'every']"
      ]
     },
     "execution_count": 35,
     "metadata": {},
     "output_type": "execute_result"
    }
   ],
   "source": [
    "f1"
   ]
  },
  {
   "cell_type": "code",
   "execution_count": 36,
   "id": "1ec865b1",
   "metadata": {},
   "outputs": [
    {
     "data": {
      "text/plain": [
       "['Data', 'deep', 'useful', 'Machine', 'data', 'learning', 'every']"
      ]
     },
     "execution_count": 36,
     "metadata": {},
     "output_type": "execute_result"
    }
   ],
   "source": [
    "f2"
   ]
  },
  {
   "cell_type": "code",
   "execution_count": 55,
   "id": "b7b560f7",
   "metadata": {},
   "outputs": [],
   "source": [
    "def calculateIDF(doc):\n",
    "    idfDict={}\n",
    "    len_doc=len(doc)\n",
    "    idfDict=dict.fromkeys(doc[0].keys(),0)\n",
    "    for word, val in idfDict.items():\n",
    "        idfDict[word]=math.log10(len_doc/ (float(val)+1))\n",
    "    return(idfDict)"
   ]
  },
  {
   "cell_type": "code",
   "execution_count": 56,
   "id": "5de271d2",
   "metadata": {},
   "outputs": [
    {
     "data": {
      "text/plain": [
       "{'Data': 1,\n",
       " 'deep': 0,\n",
       " 'very': 1,\n",
       " 'useful': 1,\n",
       " 'is': 2,\n",
       " 'Machine': 0,\n",
       " 'are': 0,\n",
       " 'for': 0,\n",
       " 'data': 0,\n",
       " 'learning': 0,\n",
       " 'every': 1,\n",
       " 'where': 1,\n",
       " 'and': 1}"
      ]
     },
     "execution_count": 56,
     "metadata": {},
     "output_type": "execute_result"
    }
   ],
   "source": [
    "wordDict1"
   ]
  },
  {
   "cell_type": "code",
   "execution_count": 52,
   "id": "d2a179b6",
   "metadata": {
    "scrolled": true
   },
   "outputs": [
    {
     "data": {
      "text/plain": [
       "{'Data': 0,\n",
       " 'deep': 1,\n",
       " 'very': 0,\n",
       " 'useful': 1,\n",
       " 'is': 0,\n",
       " 'Machine': 1,\n",
       " 'are': 1,\n",
       " 'for': 1,\n",
       " 'data': 1,\n",
       " 'learning': 2,\n",
       " 'every': 0,\n",
       " 'where': 0,\n",
       " 'and': 1}"
      ]
     },
     "execution_count": 52,
     "metadata": {},
     "output_type": "execute_result"
    }
   ],
   "source": [
    "wordDict2"
   ]
  },
  {
   "cell_type": "code",
   "execution_count": null,
   "id": "9672c7fc",
   "metadata": {},
   "outputs": [],
   "source": []
  },
  {
   "cell_type": "code",
   "execution_count": 57,
   "id": "43657b70",
   "metadata": {},
   "outputs": [
    {
     "data": {
      "text/plain": [
       "{'Data': 0.3010299956639812,\n",
       " 'deep': 0.3010299956639812,\n",
       " 'very': 0.3010299956639812,\n",
       " 'useful': 0.3010299956639812,\n",
       " 'is': 0.3010299956639812,\n",
       " 'Machine': 0.3010299956639812,\n",
       " 'are': 0.3010299956639812,\n",
       " 'for': 0.3010299956639812,\n",
       " 'data': 0.3010299956639812,\n",
       " 'learning': 0.3010299956639812,\n",
       " 'every': 0.3010299956639812,\n",
       " 'where': 0.3010299956639812,\n",
       " 'and': 0.3010299956639812}"
      ]
     },
     "execution_count": 57,
     "metadata": {},
     "output_type": "execute_result"
    }
   ],
   "source": [
    "idfs=calculateIDF([wordDict1,wordDict2])\n",
    "idfs"
   ]
  },
  {
   "cell_type": "code",
   "execution_count": 59,
   "id": "aa88eb4f",
   "metadata": {},
   "outputs": [
    {
     "data": {
      "text/html": [
       "<div>\n",
       "<style scoped>\n",
       "    .dataframe tbody tr th:only-of-type {\n",
       "        vertical-align: middle;\n",
       "    }\n",
       "\n",
       "    .dataframe tbody tr th {\n",
       "        vertical-align: top;\n",
       "    }\n",
       "\n",
       "    .dataframe thead th {\n",
       "        text-align: right;\n",
       "    }\n",
       "</style>\n",
       "<table border=\"1\" class=\"dataframe\">\n",
       "  <thead>\n",
       "    <tr style=\"text-align: right;\">\n",
       "      <th></th>\n",
       "      <th>Data</th>\n",
       "      <th>deep</th>\n",
       "      <th>very</th>\n",
       "      <th>useful</th>\n",
       "      <th>is</th>\n",
       "      <th>Machine</th>\n",
       "      <th>are</th>\n",
       "      <th>for</th>\n",
       "      <th>data</th>\n",
       "      <th>learning</th>\n",
       "      <th>every</th>\n",
       "      <th>where</th>\n",
       "      <th>and</th>\n",
       "    </tr>\n",
       "  </thead>\n",
       "  <tbody>\n",
       "    <tr>\n",
       "      <th>0</th>\n",
       "      <td>0.037629</td>\n",
       "      <td>0.000000</td>\n",
       "      <td>0.037629</td>\n",
       "      <td>0.037629</td>\n",
       "      <td>0.075257</td>\n",
       "      <td>0.000000</td>\n",
       "      <td>0.000000</td>\n",
       "      <td>0.000000</td>\n",
       "      <td>0.000000</td>\n",
       "      <td>0.000000</td>\n",
       "      <td>0.037629</td>\n",
       "      <td>0.037629</td>\n",
       "      <td>0.037629</td>\n",
       "    </tr>\n",
       "    <tr>\n",
       "      <th>1</th>\n",
       "      <td>0.000000</td>\n",
       "      <td>0.033448</td>\n",
       "      <td>0.000000</td>\n",
       "      <td>0.033448</td>\n",
       "      <td>0.000000</td>\n",
       "      <td>0.033448</td>\n",
       "      <td>0.033448</td>\n",
       "      <td>0.033448</td>\n",
       "      <td>0.033448</td>\n",
       "      <td>0.066896</td>\n",
       "      <td>0.000000</td>\n",
       "      <td>0.000000</td>\n",
       "      <td>0.033448</td>\n",
       "    </tr>\n",
       "  </tbody>\n",
       "</table>\n",
       "</div>"
      ],
      "text/plain": [
       "       Data      deep      very    useful        is   Machine       are  \\\n",
       "0  0.037629  0.000000  0.037629  0.037629  0.075257  0.000000  0.000000   \n",
       "1  0.000000  0.033448  0.000000  0.033448  0.000000  0.033448  0.033448   \n",
       "\n",
       "        for      data  learning     every     where       and  \n",
       "0  0.000000  0.000000  0.000000  0.037629  0.037629  0.037629  \n",
       "1  0.033448  0.033448  0.066896  0.000000  0.000000  0.033448  "
      ]
     },
     "execution_count": 59,
     "metadata": {},
     "output_type": "execute_result"
    }
   ],
   "source": [
    "def computeTFIDF(tfBow,idfs):\n",
    "    tfidf={}\n",
    "    for word ,val in tfBow.items():\n",
    "        tfidf[word]=val*idfs[word]\n",
    "    return (tfidf)\n",
    "idf1=computeTFIDF(tf1,idfs)\n",
    "idf2=computeTFIDF(tf2,idfs)\n",
    "#Dataframe\n",
    "idf=pd.DataFrame([idf1,idf2])\n",
    "idf"
   ]
  },
  {
   "cell_type": "code",
   "execution_count": 65,
   "id": "b5c3d509",
   "metadata": {},
   "outputs": [
    {
     "data": {
      "text/plain": [
       "array([[0.24377685, 0.        , 0.24377685, 0.        , 0.34261985,\n",
       "        0.        , 0.68523971, 0.        , 0.        , 0.24377685,\n",
       "        0.34261985, 0.34261985],\n",
       "       [0.2306165 , 0.32412345, 0.2306165 , 0.32412345, 0.        ,\n",
       "        0.32412345, 0.        , 0.6482469 , 0.32412345, 0.2306165 ,\n",
       "        0.        , 0.        ]])"
      ]
     },
     "execution_count": 65,
     "metadata": {},
     "output_type": "execute_result"
    }
   ],
   "source": [
    "\n",
    "from sklearn.feature_extraction.text import TfidfVectorizer\n",
    "first_sent=\"Data is every where and is very useful\"\n",
    "second_sent=\"Machine learning and deep learning are useful for data\"\n",
    "vec=TfidfVectorizer()\n",
    "result=vec.fit_transform([first_sent,second_sent])\n",
    "result.toarray()"
   ]
  },
  {
   "cell_type": "code",
   "execution_count": 68,
   "id": "c8a0c227",
   "metadata": {},
   "outputs": [
    {
     "data": {
      "text/html": [
       "<div>\n",
       "<style scoped>\n",
       "    .dataframe tbody tr th:only-of-type {\n",
       "        vertical-align: middle;\n",
       "    }\n",
       "\n",
       "    .dataframe tbody tr th {\n",
       "        vertical-align: top;\n",
       "    }\n",
       "\n",
       "    .dataframe thead th {\n",
       "        text-align: right;\n",
       "    }\n",
       "</style>\n",
       "<table border=\"1\" class=\"dataframe\">\n",
       "  <thead>\n",
       "    <tr style=\"text-align: right;\">\n",
       "      <th></th>\n",
       "      <th>and</th>\n",
       "      <th>are</th>\n",
       "      <th>data</th>\n",
       "      <th>deep</th>\n",
       "      <th>every</th>\n",
       "      <th>for</th>\n",
       "      <th>is</th>\n",
       "      <th>learning</th>\n",
       "      <th>machine</th>\n",
       "      <th>useful</th>\n",
       "      <th>very</th>\n",
       "      <th>where</th>\n",
       "    </tr>\n",
       "  </thead>\n",
       "  <tbody>\n",
       "    <tr>\n",
       "      <th>0</th>\n",
       "      <td>0.243777</td>\n",
       "      <td>0.000000</td>\n",
       "      <td>0.243777</td>\n",
       "      <td>0.000000</td>\n",
       "      <td>0.34262</td>\n",
       "      <td>0.000000</td>\n",
       "      <td>0.68524</td>\n",
       "      <td>0.000000</td>\n",
       "      <td>0.000000</td>\n",
       "      <td>0.243777</td>\n",
       "      <td>0.34262</td>\n",
       "      <td>0.34262</td>\n",
       "    </tr>\n",
       "    <tr>\n",
       "      <th>1</th>\n",
       "      <td>0.230617</td>\n",
       "      <td>0.324123</td>\n",
       "      <td>0.230617</td>\n",
       "      <td>0.324123</td>\n",
       "      <td>0.00000</td>\n",
       "      <td>0.324123</td>\n",
       "      <td>0.00000</td>\n",
       "      <td>0.648247</td>\n",
       "      <td>0.324123</td>\n",
       "      <td>0.230617</td>\n",
       "      <td>0.00000</td>\n",
       "      <td>0.00000</td>\n",
       "    </tr>\n",
       "  </tbody>\n",
       "</table>\n",
       "</div>"
      ],
      "text/plain": [
       "        and       are      data      deep    every       for       is  \\\n",
       "0  0.243777  0.000000  0.243777  0.000000  0.34262  0.000000  0.68524   \n",
       "1  0.230617  0.324123  0.230617  0.324123  0.00000  0.324123  0.00000   \n",
       "\n",
       "   learning   machine    useful     very    where  \n",
       "0  0.000000  0.000000  0.243777  0.34262  0.34262  \n",
       "1  0.648247  0.324123  0.230617  0.00000  0.00000  "
      ]
     },
     "execution_count": 68,
     "metadata": {},
     "output_type": "execute_result"
    }
   ],
   "source": [
    "pd.DataFrame(result.toarray(),columns= vec.get_feature_names_out())"
   ]
  },
  {
   "cell_type": "code",
   "execution_count": null,
   "id": "2e802176",
   "metadata": {},
   "outputs": [],
   "source": []
  },
  {
   "cell_type": "code",
   "execution_count": null,
   "id": "368887b9",
   "metadata": {},
   "outputs": [],
   "source": []
  }
 ],
 "metadata": {
  "kernelspec": {
   "display_name": "Python 3 (ipykernel)",
   "language": "python",
   "name": "python3"
  },
  "language_info": {
   "codemirror_mode": {
    "name": "ipython",
    "version": 3
   },
   "file_extension": ".py",
   "mimetype": "text/x-python",
   "name": "python",
   "nbconvert_exporter": "python",
   "pygments_lexer": "ipython3",
   "version": "3.11.4"
  }
 },
 "nbformat": 4,
 "nbformat_minor": 5
}
