{
 "cells": [
  {
   "cell_type": "code",
   "execution_count": 1,
   "id": "efa0c3d8",
   "metadata": {},
   "outputs": [],
   "source": [
    "import nltk\n",
    "\n",
    "#importing ther nltk"
   ]
  },
  {
   "cell_type": "code",
   "execution_count": 2,
   "id": "d0996810",
   "metadata": {},
   "outputs": [],
   "source": [
    "corpus=\"Weather refers to the atmospheric conditions in a particular place at a specific time. It encompasses a variety of factors such as temperature, humidity, precipitation, wind speed, and atmospheric pressure. Weather changes can occur hourly, daily, or seasonally, influenced by geographic location, time of year, and global patterns.\""
   ]
  },
  {
   "cell_type": "code",
   "execution_count": 3,
   "id": "76ede820",
   "metadata": {},
   "outputs": [
    {
     "data": {
      "text/plain": [
       "'Weather refers to the atmospheric conditions in a particular place at a specific time. It encompasses a variety of factors such as temperature, humidity, precipitation, wind speed, and atmospheric pressure. Weather changes can occur hourly, daily, or seasonally, influenced by geographic location, time of year, and global patterns.'"
      ]
     },
     "execution_count": 3,
     "metadata": {},
     "output_type": "execute_result"
    }
   ],
   "source": [
    "corpus"
   ]
  },
  {
   "cell_type": "markdown",
   "id": "7a49fe4c",
   "metadata": {},
   "source": [
    "# sent_tokenize"
   ]
  },
  {
   "cell_type": "code",
   "execution_count": 4,
   "id": "4c6f2453",
   "metadata": {},
   "outputs": [],
   "source": [
    "from nltk.tokenize import sent_tokenize\n",
    "\n",
    "#This sent_tokenize is used to convert the corpus into the sentence format."
   ]
  },
  {
   "cell_type": "code",
   "execution_count": 6,
   "id": "ddae4933",
   "metadata": {},
   "outputs": [
    {
     "data": {
      "text/plain": [
       "['Weather refers to the atmospheric conditions in a particular place at a specific time.',\n",
       " 'It encompasses a variety of factors such as temperature, humidity, precipitation, wind speed, and atmospheric pressure.',\n",
       " 'Weather changes can occur hourly, daily, or seasonally, influenced by geographic location, time of year, and global patterns.']"
      ]
     },
     "execution_count": 6,
     "metadata": {},
     "output_type": "execute_result"
    }
   ],
   "source": [
    "doc=sent_tokenize(corpus)\n",
    "doc"
   ]
  },
  {
   "cell_type": "code",
   "execution_count": 7,
   "id": "0d886eb0",
   "metadata": {},
   "outputs": [
    {
     "data": {
      "text/plain": [
       "list"
      ]
     },
     "execution_count": 7,
     "metadata": {},
     "output_type": "execute_result"
    }
   ],
   "source": [
    "type(doc) \n",
    "\n",
    "#This sentences are stored as list format."
   ]
  },
  {
   "cell_type": "code",
   "execution_count": 8,
   "id": "a2f60aec",
   "metadata": {},
   "outputs": [
    {
     "name": "stdout",
     "output_type": "stream",
     "text": [
      "Weather refers to the atmospheric conditions in a particular place at a specific time.\n",
      "It encompasses a variety of factors such as temperature, humidity, precipitation, wind speed, and atmospheric pressure.\n",
      "Weather changes can occur hourly, daily, or seasonally, influenced by geographic location, time of year, and global patterns.\n"
     ]
    }
   ],
   "source": [
    "for sent in doc:\n",
    "    print(sent)"
   ]
  },
  {
   "cell_type": "markdown",
   "id": "234bb771",
   "metadata": {},
   "source": [
    "# word_tokenize"
   ]
  },
  {
   "cell_type": "code",
   "execution_count": 9,
   "id": "73b917a8",
   "metadata": {},
   "outputs": [],
   "source": [
    "from nltk.tokenize import word_tokenize\n",
    "\n",
    "#This word_tokenize splits the corpus or sentence into the words "
   ]
  },
  {
   "cell_type": "code",
   "execution_count": null,
   "id": "d91b04f7",
   "metadata": {},
   "outputs": [],
   "source": []
  },
  {
   "cell_type": "code",
   "execution_count": 14,
   "id": "86625ca8",
   "metadata": {},
   "outputs": [
    {
     "data": {
      "text/plain": [
       "['Weather',\n",
       " 'refers',\n",
       " 'to',\n",
       " 'the',\n",
       " 'atmospheric',\n",
       " 'conditions',\n",
       " 'in',\n",
       " 'a',\n",
       " 'particular',\n",
       " 'place',\n",
       " 'at',\n",
       " 'a',\n",
       " 'specific',\n",
       " 'time',\n",
       " '.',\n",
       " 'It',\n",
       " 'encompasses',\n",
       " 'a',\n",
       " 'variety',\n",
       " 'of',\n",
       " 'factors',\n",
       " 'such',\n",
       " 'as',\n",
       " 'temperature',\n",
       " ',',\n",
       " 'humidity',\n",
       " ',',\n",
       " 'precipitation',\n",
       " ',',\n",
       " 'wind',\n",
       " 'speed',\n",
       " ',',\n",
       " 'and',\n",
       " 'atmospheric',\n",
       " 'pressure',\n",
       " '.',\n",
       " 'Weather',\n",
       " 'changes',\n",
       " 'can',\n",
       " 'occur',\n",
       " 'hourly',\n",
       " ',',\n",
       " 'daily',\n",
       " ',',\n",
       " 'or',\n",
       " 'seasonally',\n",
       " ',',\n",
       " 'influenced',\n",
       " 'by',\n",
       " 'geographic',\n",
       " 'location',\n",
       " ',',\n",
       " 'time',\n",
       " 'of',\n",
       " 'year',\n",
       " ',',\n",
       " 'and',\n",
       " 'global',\n",
       " 'patterns',\n",
       " '.']"
      ]
     },
     "execution_count": 14,
     "metadata": {},
     "output_type": "execute_result"
    }
   ],
   "source": [
    "words=word_tokenize(corpus)\n",
    "words"
   ]
  },
  {
   "cell_type": "code",
   "execution_count": 16,
   "id": "c8b64064",
   "metadata": {},
   "outputs": [
    {
     "name": "stdout",
     "output_type": "stream",
     "text": [
      "['Weather', 'refers', 'to', 'the', 'atmospheric', 'conditions', 'in', 'a', 'particular', 'place', 'at', 'a', 'specific', 'time', '.']\n",
      "['It', 'encompasses', 'a', 'variety', 'of', 'factors', 'such', 'as', 'temperature', ',', 'humidity', ',', 'precipitation', ',', 'wind', 'speed', ',', 'and', 'atmospheric', 'pressure', '.']\n",
      "['Weather', 'changes', 'can', 'occur', 'hourly', ',', 'daily', ',', 'or', 'seasonally', ',', 'influenced', 'by', 'geographic', 'location', ',', 'time', 'of', 'year', ',', 'and', 'global', 'patterns', '.']\n"
     ]
    }
   ],
   "source": [
    "for sent in doc:\n",
    "    print(word_tokenize(sent))"
   ]
  },
  {
   "cell_type": "markdown",
   "id": "1610c88e",
   "metadata": {},
   "source": [
    "# wordpunct_tokenize"
   ]
  },
  {
   "cell_type": "code",
   "execution_count": 18,
   "id": "22891b6e",
   "metadata": {},
   "outputs": [],
   "source": [
    "from nltk.tokenize import wordpunct_tokenize"
   ]
  },
  {
   "cell_type": "code",
   "execution_count": 19,
   "id": "3a998926",
   "metadata": {},
   "outputs": [
    {
     "data": {
      "text/plain": [
       "['Weather',\n",
       " 'refers',\n",
       " 'to',\n",
       " 'the',\n",
       " 'atmospheric',\n",
       " 'conditions',\n",
       " 'in',\n",
       " 'a',\n",
       " 'particular',\n",
       " 'place',\n",
       " 'at',\n",
       " 'a',\n",
       " 'specific',\n",
       " 'time',\n",
       " '.',\n",
       " 'It',\n",
       " 'encompasses',\n",
       " 'a',\n",
       " 'variety',\n",
       " 'of',\n",
       " 'factors',\n",
       " 'such',\n",
       " 'as',\n",
       " 'temperature',\n",
       " ',',\n",
       " 'humidity',\n",
       " ',',\n",
       " 'precipitation',\n",
       " ',',\n",
       " 'wind',\n",
       " 'speed',\n",
       " ',',\n",
       " 'and',\n",
       " 'atmospheric',\n",
       " 'pressure',\n",
       " '.',\n",
       " 'Weather',\n",
       " 'changes',\n",
       " 'can',\n",
       " 'occur',\n",
       " 'hourly',\n",
       " ',',\n",
       " 'daily',\n",
       " ',',\n",
       " 'or',\n",
       " 'seasonally',\n",
       " ',',\n",
       " 'influenced',\n",
       " 'by',\n",
       " 'geographic',\n",
       " 'location',\n",
       " ',',\n",
       " 'time',\n",
       " 'of',\n",
       " 'year',\n",
       " ',',\n",
       " 'and',\n",
       " 'global',\n",
       " 'patterns',\n",
       " '.']"
      ]
     },
     "execution_count": 19,
     "metadata": {},
     "output_type": "execute_result"
    }
   ],
   "source": [
    "wordpunct_tokenize(corpus)"
   ]
  },
  {
   "cell_type": "markdown",
   "id": "5355efaf",
   "metadata": {},
   "source": [
    "# TreebankWordTokenizer"
   ]
  },
  {
   "cell_type": "code",
   "execution_count": 22,
   "id": "8f5314ac",
   "metadata": {},
   "outputs": [],
   "source": [
    "from nltk.tokenize import  TreebankWordTokenizer\n",
    "\n",
    "#This will not seperate the full-stop from words expect at the last word.\n"
   ]
  },
  {
   "cell_type": "code",
   "execution_count": 27,
   "id": "05a8cae7",
   "metadata": {},
   "outputs": [],
   "source": [
    "tok=TreebankWordTokenizer()\n"
   ]
  },
  {
   "cell_type": "code",
   "execution_count": 28,
   "id": "97a3e978",
   "metadata": {},
   "outputs": [
    {
     "data": {
      "text/plain": [
       "['Weather',\n",
       " 'refers',\n",
       " 'to',\n",
       " 'the',\n",
       " 'atmospheric',\n",
       " 'conditions',\n",
       " 'in',\n",
       " 'a',\n",
       " 'particular',\n",
       " 'place',\n",
       " 'at',\n",
       " 'a',\n",
       " 'specific',\n",
       " 'time.',\n",
       " 'It',\n",
       " 'encompasses',\n",
       " 'a',\n",
       " 'variety',\n",
       " 'of',\n",
       " 'factors',\n",
       " 'such',\n",
       " 'as',\n",
       " 'temperature',\n",
       " ',',\n",
       " 'humidity',\n",
       " ',',\n",
       " 'precipitation',\n",
       " ',',\n",
       " 'wind',\n",
       " 'speed',\n",
       " ',',\n",
       " 'and',\n",
       " 'atmospheric',\n",
       " 'pressure.',\n",
       " 'Weather',\n",
       " 'changes',\n",
       " 'can',\n",
       " 'occur',\n",
       " 'hourly',\n",
       " ',',\n",
       " 'daily',\n",
       " ',',\n",
       " 'or',\n",
       " 'seasonally',\n",
       " ',',\n",
       " 'influenced',\n",
       " 'by',\n",
       " 'geographic',\n",
       " 'location',\n",
       " ',',\n",
       " 'time',\n",
       " 'of',\n",
       " 'year',\n",
       " ',',\n",
       " 'and',\n",
       " 'global',\n",
       " 'patterns',\n",
       " '.']"
      ]
     },
     "execution_count": 28,
     "metadata": {},
     "output_type": "execute_result"
    }
   ],
   "source": [
    "tok.tokenize(corpus)"
   ]
  },
  {
   "cell_type": "code",
   "execution_count": 29,
   "id": "594f9480",
   "metadata": {},
   "outputs": [],
   "source": [
    "#Example :  'time.'   'pressure.' and look at last word which is seperated from full stop."
   ]
  },
  {
   "cell_type": "code",
   "execution_count": null,
   "id": "657e155d",
   "metadata": {},
   "outputs": [],
   "source": []
  }
 ],
 "metadata": {
  "kernelspec": {
   "display_name": "Python 3 (ipykernel)",
   "language": "python",
   "name": "python3"
  },
  "language_info": {
   "codemirror_mode": {
    "name": "ipython",
    "version": 3
   },
   "file_extension": ".py",
   "mimetype": "text/x-python",
   "name": "python",
   "nbconvert_exporter": "python",
   "pygments_lexer": "ipython3",
   "version": "3.11.4"
  }
 },
 "nbformat": 4,
 "nbformat_minor": 5
}
