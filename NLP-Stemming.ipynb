{
 "cells": [
  {
   "cell_type": "code",
   "execution_count": 1,
   "id": "557d460e",
   "metadata": {},
   "outputs": [],
   "source": [
    "from nltk.stem import PorterStemmer\n",
    "from nltk.stem import PorterStemmer"
   ]
  },
  {
   "cell_type": "markdown",
   "id": "99aeaf05",
   "metadata": {},
   "source": [
    "# PorterStemmer()"
   ]
  },
  {
   "cell_type": "code",
   "execution_count": 7,
   "id": "a6e324a8",
   "metadata": {},
   "outputs": [],
   "source": [
    "stemming=PorterStemmer()"
   ]
  },
  {
   "cell_type": "code",
   "execution_count": null,
   "id": "9cc551cb",
   "metadata": {},
   "outputs": [],
   "source": []
  },
  {
   "cell_type": "code",
   "execution_count": 8,
   "id": "e5f843fd",
   "metadata": {},
   "outputs": [],
   "source": [
    "words=[\"Running\", \"Runs\", \"Runner\", \"Happily\", \"Happiness\", \"Played\", \"Playing\", \"Playful\", \"Studies\", \"Studying\",\"eating\",\"gave\",\"giving\",\"completed\"]\n"
   ]
  },
  {
   "cell_type": "code",
   "execution_count": 9,
   "id": "4f35caef",
   "metadata": {},
   "outputs": [
    {
     "name": "stdout",
     "output_type": "stream",
     "text": [
      "Running---->run\n",
      "Runs---->run\n",
      "Runner---->runner\n",
      "Happily---->happili\n",
      "Happiness---->happi\n",
      "Played---->play\n",
      "Playing---->play\n",
      "Playful---->play\n",
      "Studies---->studi\n",
      "Studying---->studi\n",
      "eating---->eat\n",
      "gave---->gave\n",
      "giving---->give\n",
      "completed---->complet\n"
     ]
    }
   ],
   "source": [
    "for word in words:\n",
    "    print(word +\"---->\" + stemming.stem(word))"
   ]
  },
  {
   "cell_type": "code",
   "execution_count": 13,
   "id": "51dcc456",
   "metadata": {},
   "outputs": [
    {
     "data": {
      "text/plain": [
       "'happi'"
      ]
     },
     "execution_count": 13,
     "metadata": {},
     "output_type": "execute_result"
    }
   ],
   "source": [
    "stemming.stem('happiness')"
   ]
  },
  {
   "cell_type": "code",
   "execution_count": 14,
   "id": "7e90837b",
   "metadata": {},
   "outputs": [
    {
     "data": {
      "text/plain": [
       "'easili'"
      ]
     },
     "execution_count": 14,
     "metadata": {},
     "output_type": "execute_result"
    }
   ],
   "source": [
    "stemming.stem('easily')"
   ]
  },
  {
   "cell_type": "code",
   "execution_count": 16,
   "id": "c8bd5822",
   "metadata": {},
   "outputs": [
    {
     "data": {
      "text/plain": [
       "'congratul'"
      ]
     },
     "execution_count": 16,
     "metadata": {},
     "output_type": "execute_result"
    }
   ],
   "source": [
    "stemming.stem('congratulations')"
   ]
  },
  {
   "cell_type": "markdown",
   "id": "6b3aae20",
   "metadata": {},
   "source": [
    "# RegexpStemmer\n",
    "\n",
    "#This is used to overcome the above problems which we have seen in for words like happiness easuly and congratualtions"
   ]
  },
  {
   "cell_type": "code",
   "execution_count": 10,
   "id": "6d1133e3",
   "metadata": {},
   "outputs": [],
   "source": [
    "from nltk.stem import RegexpStemmer\n"
   ]
  },
  {
   "cell_type": "code",
   "execution_count": 40,
   "id": "9d18d9cb",
   "metadata": {},
   "outputs": [],
   "source": [
    "stemmer = RegexpStemmer('ing$''s$' 'es$' 'e$', min=4)"
   ]
  },
  {
   "cell_type": "code",
   "execution_count": 41,
   "id": "11706384",
   "metadata": {},
   "outputs": [
    {
     "data": {
      "text/plain": [
       "'congratulations'"
      ]
     },
     "execution_count": 41,
     "metadata": {},
     "output_type": "execute_result"
    }
   ],
   "source": [
    "stemmer.stem('congratulations')"
   ]
  },
  {
   "cell_type": "code",
   "execution_count": 42,
   "id": "0a35ae77",
   "metadata": {},
   "outputs": [
    {
     "data": {
      "text/plain": [
       "'happiness'"
      ]
     },
     "execution_count": 42,
     "metadata": {},
     "output_type": "execute_result"
    }
   ],
   "source": [
    "stemmer.stem('happiness')"
   ]
  },
  {
   "cell_type": "code",
   "execution_count": 43,
   "id": "eb0951b5",
   "metadata": {},
   "outputs": [
    {
     "data": {
      "text/plain": [
       "'DAILY'"
      ]
     },
     "execution_count": 43,
     "metadata": {},
     "output_type": "execute_result"
    }
   ],
   "source": [
    "stemmer.stem('DAILY')"
   ]
  },
  {
   "cell_type": "code",
   "execution_count": 44,
   "id": "7c46dbdb",
   "metadata": {},
   "outputs": [
    {
     "data": {
      "text/plain": [
       "'ingeating'"
      ]
     },
     "execution_count": 44,
     "metadata": {},
     "output_type": "execute_result"
    }
   ],
   "source": [
    "stemmer.stem('ingeating')"
   ]
  },
  {
   "cell_type": "code",
   "execution_count": null,
   "id": "2e563a6b",
   "metadata": {},
   "outputs": [],
   "source": []
  },
  {
   "cell_type": "markdown",
   "id": "4056befe",
   "metadata": {},
   "source": [
    "# Snowball Stemmer"
   ]
  },
  {
   "cell_type": "code",
   "execution_count": 45,
   "id": "68d0f342",
   "metadata": {},
   "outputs": [],
   "source": [
    "from nltk.stem import SnowballStemmer"
   ]
  },
  {
   "cell_type": "code",
   "execution_count": 46,
   "id": "45a5af75",
   "metadata": {},
   "outputs": [],
   "source": [
    "SB=SnowballStemmer(\"english\")"
   ]
  },
  {
   "cell_type": "code",
   "execution_count": 47,
   "id": "03cbbd59",
   "metadata": {},
   "outputs": [
    {
     "name": "stdout",
     "output_type": "stream",
     "text": [
      "Running _____run\n",
      "Runs _____run\n",
      "Runner _____runner\n",
      "Happily _____happili\n",
      "Happiness _____happi\n",
      "Played _____play\n",
      "Playing _____play\n",
      "Playful _____play\n",
      "Studies _____studi\n",
      "Studying _____studi\n",
      "eating _____eat\n",
      "gave _____gave\n",
      "giving _____give\n",
      "completed _____complet\n"
     ]
    }
   ],
   "source": [
    "for word in words:\n",
    "    print(word+ \" _____\"+ SB.stem(word))"
   ]
  },
  {
   "cell_type": "code",
   "execution_count": 48,
   "id": "2d59842f",
   "metadata": {},
   "outputs": [
    {
     "data": {
      "text/plain": [
       "('fairli', 'sportingli')"
      ]
     },
     "execution_count": 48,
     "metadata": {},
     "output_type": "execute_result"
    }
   ],
   "source": [
    "stemming.stem('fairly'),stemming.stem('sportingly')"
   ]
  },
  {
   "cell_type": "code",
   "execution_count": 49,
   "id": "a549c48c",
   "metadata": {},
   "outputs": [
    {
     "data": {
      "text/plain": [
       "('fair', 'sport')"
      ]
     },
     "execution_count": 49,
     "metadata": {},
     "output_type": "execute_result"
    }
   ],
   "source": [
    "#Snow ball stemmer \n",
    "\n",
    "SB.stem('fairly'),SB.stem('sportingly')\n"
   ]
  },
  {
   "cell_type": "code",
   "execution_count": null,
   "id": "eb030f9a",
   "metadata": {},
   "outputs": [],
   "source": []
  }
 ],
 "metadata": {
  "kernelspec": {
   "display_name": "Python 3 (ipykernel)",
   "language": "python",
   "name": "python3"
  },
  "language_info": {
   "codemirror_mode": {
    "name": "ipython",
    "version": 3
   },
   "file_extension": ".py",
   "mimetype": "text/x-python",
   "name": "python",
   "nbconvert_exporter": "python",
   "pygments_lexer": "ipython3",
   "version": "3.11.4"
  }
 },
 "nbformat": 4,
 "nbformat_minor": 5
}
