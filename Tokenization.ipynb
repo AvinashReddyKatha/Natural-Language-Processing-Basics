{
 "cells": [
  {
   "cell_type": "code",
   "execution_count": null,
   "id": "8149831e",
   "metadata": {},
   "outputs": [
    {
     "name": "stdout",
     "output_type": "stream",
     "text": [
      "showing info https://raw.githubusercontent.com/nltk/nltk_data/gh-pages/index.xml\n"
     ]
    }
   ],
   "source": [
    "import nltk\n",
    "nltk.download()"
   ]
  },
  {
   "cell_type": "code",
   "execution_count": null,
   "id": "72fbc950",
   "metadata": {},
   "outputs": [],
   "source": [
    "nltk.download(\"punkt\")"
   ]
  },
  {
   "cell_type": "code",
   "execution_count": null,
   "id": "48aae440",
   "metadata": {},
   "outputs": [],
   "source": [
    "text=\"Machine learning is the old new concept. NLP is a booming technology.Avinash reddy is the good student still he needs to focus on the many things to get into on path as world is evolving in a great maneer. We need to comapre with the best and good folks those who are in  same journey.This will motivate us to learn something.As \""
   ]
  },
  {
   "cell_type": "code",
   "execution_count": null,
   "id": "1c856e76",
   "metadata": {},
   "outputs": [],
   "source": [
    "tokens_word=nltk.word_tokenize(text)\n",
    "tokens_word"
   ]
  },
  {
   "cell_type": "code",
   "execution_count": null,
   "id": "d9fa01e0",
   "metadata": {},
   "outputs": [],
   "source": [
    "list(nltk.bigrams(tokens_word))"
   ]
  },
  {
   "cell_type": "code",
   "execution_count": null,
   "id": "c7d42c40",
   "metadata": {},
   "outputs": [],
   "source": [
    "bi=list(nltk.trigrams(tokens_word))\n",
    "bi"
   ]
  },
  {
   "cell_type": "markdown",
   "id": "5bc299bc",
   "metadata": {},
   "source": [
    "\n",
    "# POS"
   ]
  },
  {
   "cell_type": "code",
   "execution_count": null,
   "id": "9487c95f",
   "metadata": {},
   "outputs": [],
   "source": [
    "nltk.download(\"averaged_perceptron_tagger\")"
   ]
  },
  {
   "cell_type": "code",
   "execution_count": null,
   "id": "0ce58b05",
   "metadata": {},
   "outputs": [],
   "source": [
    "for token in (tokens_word):\n",
    "    print(nltk.pos_tag([token]))\n",
    "        \n",
    "                                                "
   ]
  },
  {
   "cell_type": "code",
   "execution_count": null,
   "id": "631295a1",
   "metadata": {},
   "outputs": [],
   "source": [
    "sent=\"Jerry eats a banana\"\n",
    "tokens=nltk.word_tokenize(sent)\n",
    "for token in tokens:\n",
    "    print(nltk.pos_tag([token]))"
   ]
  },
  {
   "cell_type": "code",
   "execution_count": null,
   "id": "f828bd92",
   "metadata": {},
   "outputs": [],
   "source": [
    "from nltk.tokenize import RegexpTokenizer\n",
    "reg_tokenizer=RegexpTokenizer('(?u)\\W+|\\$[\\d\\.]+|\\S+')\n",
    "tokens=reg_tokenizer.tokenize(sent)\n",
    "for token in tokens:\n",
    "    print(nltk.pos_tag([token]))"
   ]
  },
  {
   "cell_type": "code",
   "execution_count": null,
   "id": "38ea0274",
   "metadata": {},
   "outputs": [],
   "source": [
    "from nltk.corpus import stopwords\n",
    "stop_words=stopwords.words\n",
    "stop_words=stopwords.words('English')\n",
    "stop_words"
   ]
  },
  {
   "cell_type": "code",
   "execution_count": null,
   "id": "97146097",
   "metadata": {},
   "outputs": [],
   "source": [
    "filtered_data=[w for w in tokens_word if not w in stop_words]\n",
    "filtered_data"
   ]
  },
  {
   "cell_type": "code",
   "execution_count": null,
   "id": "7fd2434b",
   "metadata": {},
   "outputs": [],
   "source": [
    "tokens_word"
   ]
  },
  {
   "cell_type": "code",
   "execution_count": null,
   "id": "a0e18b25",
   "metadata": {},
   "outputs": [],
   "source": []
  }
 ],
 "metadata": {
  "kernelspec": {
   "display_name": "Python 3 (ipykernel)",
   "language": "python",
   "name": "python3"
  },
  "language_info": {
   "codemirror_mode": {
    "name": "ipython",
    "version": 3
   },
   "file_extension": ".py",
   "mimetype": "text/x-python",
   "name": "python",
   "nbconvert_exporter": "python",
   "pygments_lexer": "ipython3",
   "version": "3.11.4"
  }
 },
 "nbformat": 4,
 "nbformat_minor": 5
}
